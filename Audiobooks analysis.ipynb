{
 "cells": [
  {
   "cell_type": "markdown",
   "metadata": {},
   "source": [
    "# <span style=\"color:#4040a1; font-family: Trebuchet MS; font-size: 70px; font-weight: bold;\">Audiobooks Analysis</span>"
   ]
  },
  {
   "cell_type": "code",
   "execution_count": null,
   "metadata": {
    "id": "84uB8m7Ld2MW"
   },
   "outputs": [],
   "source": [
    "import numpy as np\n",
    "from sklearn import preprocessing"
   ]
  },
  {
   "cell_type": "code",
   "execution_count": null,
   "metadata": {
    "id": "UL40sXYzd8BL"
   },
   "outputs": [],
   "source": [
    "raw = np.loadtxt('/content/Audiobooks_data.csv', delimiter = ',')\n",
    "\n",
    "raw_features = raw[:,1:-1]\n",
    "raw_targets = raw[:,-1]"
   ]
  },
  {
   "cell_type": "markdown",
   "metadata": {},
   "source": [
    "# <span style=\"color:#4040a1; font-family: Trebuchet MS; font-size: 60px; font-weight: bold;\">Data Preparation</span>"
   ]
  },
  {
   "cell_type": "markdown",
   "metadata": {
    "id": "sECg58M9yY_F"
   },
   "source": [
    "# <span style=\"color:#4040a1; font-family: Trebuchet MS; font-size: 40px; font-weight: bold;\">Balance the data</span>"
   ]
  },
  {
   "cell_type": "code",
   "execution_count": null,
   "metadata": {
    "id": "70EfToEKeesv"
   },
   "outputs": [],
   "source": [
    "# Calculate the number of instances (samples) with target value 1 in the 'raw_targets' array.\n",
    "num_one_targets = int(np.sum(raw_targets))\n",
    "\n",
    "# Initialize a counter for instances with target value 0 and a list to store their indices.\n",
    "zero_targets_counter = 0\n",
    "indices_to_remove = []\n",
    "\n",
    "# Iterate through each element (instance) in the 'raw_targets' array.\n",
    "for i in range(raw_targets.shape[0]):\n",
    "    # Check if the target value at index 'i' is 0.\n",
    "    if raw_targets[i] == 0:\n",
    "        # Increment the counter for instances with target value 0.\n",
    "        zero_targets_counter += 1\n",
    "        # If the number of instances with target value 0 exceeds the number of instances with target value 1,\n",
    "        # add the index 'i' to the list of indices to remove.\n",
    "        if zero_targets_counter > num_one_targets:\n",
    "            indices_to_remove.append(i)\n",
    "\n",
    "# Remove rows from the 'raw_features' and 'raw_targets' arrays where the target value is 0.\n",
    "unscaled_inputs_equal_priors = np.delete(raw_features, indices_to_remove, axis=0)\n",
    "targets_equal_priors = np.delete(raw_targets, indices_to_remove, axis=0)"
   ]
  },
  {
   "cell_type": "markdown",
   "metadata": {
    "id": "zJCu5e8NzrCY"
   },
   "source": [
    "# <span style=\"color:#4040a1; font-family: Trebuchet MS; font-size: 40px; font-weight: bold;\">Standardize inputs</span>"
   ]
  },
  {
   "cell_type": "code",
   "execution_count": null,
   "metadata": {
    "id": "hoC-fcJkgF7I"
   },
   "outputs": [],
   "source": [
    "scaled_inputs = preprocessing.scale(unscaled_inputs_equal_priors)"
   ]
  },
  {
   "cell_type": "markdown",
   "metadata": {
    "id": "c_IPdtbmz6rQ"
   },
   "source": [
    "# <span style=\"color:#4040a1; font-family: Trebuchet MS; font-size: 40px; font-weight: bold;\">Shuffle the data</span>"
   ]
  },
  {
   "cell_type": "code",
   "execution_count": null,
   "metadata": {
    "id": "HHW5gYwrz2Uj"
   },
   "outputs": [],
   "source": [
    "# Create an array of sequential indices from 0 to the number of rows in 'scaled_inputs'.\n",
    "shuffled_indices = np.arange(scaled_inputs.shape[0])\n",
    "\n",
    "# Shuffle the 'shuffled_indices' array randomly to create a new order.\n",
    "np.random.shuffle(shuffled_indices)\n",
    "\n",
    "# Use the shuffled indices to rearrange the rows of 'scaled_inputs'.\n",
    "shuffled_inputs = scaled_inputs[shuffled_indices]\n",
    "\n",
    "# Use the same shuffled indices to rearrange the rows of 'targets_equal_priors'.\n",
    "shuffled_targets = targets_equal_priors[shuffled_indices]"
   ]
  },
  {
   "cell_type": "markdown",
   "metadata": {
    "id": "vU8XNzMU0vQq"
   },
   "source": [
    "# <span style=\"color:#4040a1; font-family: Trebuchet MS; font-size: 40px; font-weight: bold;\">Train / Validation / Test Split</span>"
   ]
  },
  {
   "cell_type": "code",
   "execution_count": null,
   "metadata": {
    "colab": {
     "base_uri": "https://localhost:8080/"
    },
    "id": "CadHah7V0kHB",
    "outputId": "8e228727-8394-4b2c-e3bf-4ba61213d4da"
   },
   "outputs": [
    {
     "name": "stdout",
     "output_type": "stream",
     "text": [
      "Training set - Sum of targets, Number of samples, Mean target value per sample:\n",
      "1792.0 3579 0.5006985191394244\n",
      "Validation set - Sum of targets, Number of samples, Mean target value per sample:\n",
      "215.0 447 0.4809843400447427\n",
      "Test set - Sum of targets, Number of samples, Mean target value per sample:\n",
      "230.0 448 0.5133928571428571\n"
     ]
    }
   ],
   "source": [
    "# Get the total number of samples in the shuffled data.\n",
    "samples_count = shuffled_inputs.shape[0]\n",
    "\n",
    "# Calculate the number of samples for the training, validation, and test sets based on proportions.\n",
    "train_samples_count = int(0.8 * samples_count)\n",
    "validation_samples_count = int(0.1 * samples_count)\n",
    "test_samples_count = samples_count - train_samples_count - validation_samples_count\n",
    "\n",
    "# Split the shuffled data into training, validation, and test sets using array slicing.\n",
    "train_inputs = shuffled_inputs[:train_samples_count]\n",
    "train_targets = shuffled_targets[:train_samples_count]\n",
    "\n",
    "validation_inputs = shuffled_inputs[train_samples_count:train_samples_count+validation_samples_count]\n",
    "validation_targets = shuffled_targets[train_samples_count:train_samples_count+validation_samples_count]\n",
    "\n",
    "test_inputs = shuffled_inputs[train_samples_count+validation_samples_count:]\n",
    "test_targets = shuffled_targets[train_samples_count+validation_samples_count:]\n",
    "\n",
    "# Print statistics about the training, validation, and test sets.\n",
    "print(\"Training set - Sum of targets, Number of samples, Mean target value per sample:\")\n",
    "print(np.sum(train_targets), train_samples_count, np.sum(train_targets) / train_samples_count)\n",
    "\n",
    "print(\"Validation set - Sum of targets, Number of samples, Mean target value per sample:\")\n",
    "print(np.sum(validation_targets), validation_samples_count, np.sum(validation_targets) / validation_samples_count)\n",
    "\n",
    "print(\"Test set - Sum of targets, Number of samples, Mean target value per sample:\")\n",
    "print(np.sum(test_targets), test_samples_count, np.sum(test_targets) / test_samples_count)"
   ]
  },
  {
   "cell_type": "code",
   "execution_count": null,
   "metadata": {
    "id": "f7oQwmzI06L9"
   },
   "outputs": [],
   "source": [
    "# Save the training data (inputs and targets) into an .npz file named 'Audiobooks_data_train'.\n",
    "np.savez('Audiobooks_data_train', inputs=train_inputs, targets=train_targets)\n",
    "\n",
    "# Save the validation data (inputs and targets) into an .npz file named 'Audiobooks_data_validation'.\n",
    "np.savez('Audiobooks_data_validation', inputs=validation_inputs, targets=validation_targets)\n",
    "\n",
    "# Save the test data (inputs and targets) into an .npz file named 'Audiobooks_data_test'.\n",
    "np.savez('Audiobooks_data_test', inputs=test_inputs, targets=test_targets)"
   ]
  },
  {
   "cell_type": "markdown",
   "metadata": {
    "id": "zGoQHGJf3MDV"
   },
   "source": [
    "# <span style=\"color:#4040a1; font-family: Trebuchet MS; font-size: 60px; font-weight: bold;\">Modeling</span>"
   ]
  },
  {
   "cell_type": "code",
   "execution_count": null,
   "metadata": {
    "id": "cGLWm5_w10Tx"
   },
   "outputs": [],
   "source": [
    "import tensorflow as tf"
   ]
  },
  {
   "cell_type": "markdown",
   "metadata": {
    "id": "u5YY4DEJ37Qx"
   },
   "source": [
    "# <span style=\"color:#4040a1; font-family: Trebuchet MS; font-size: 40px; font-weight: bold;\">Load data</span>"
   ]
  },
  {
   "cell_type": "code",
   "execution_count": null,
   "metadata": {
    "id": "qKY1mwLx3dzL"
   },
   "outputs": [],
   "source": [
    "# Load the training data from the 'Audiobooks_data_train.npz' file.\n",
    "npz = np.load('Audiobooks_data_train.npz')\n",
    "# Extract the 'inputs' array and 'targets' array, casting them to float and int data types, respectively.\n",
    "train_inputs, train_targets = npz['inputs'].astype(float), npz['targets'].astype(int)\n",
    "\n",
    "# Load the validation data from the 'Audiobooks_data_validation.npz' file.\n",
    "npz = np.load('Audiobooks_data_validation.npz')\n",
    "# Extract the 'inputs' array and 'targets' array, casting them to float and int data types, respectively.\n",
    "validation_inputs, validation_targets = npz['inputs'].astype(float), npz['targets'].astype(int)\n",
    "\n",
    "# Load the test data from the 'Audiobooks_data_test.npz' file.\n",
    "npz = np.load('Audiobooks_data_test.npz')\n",
    "# Extract the 'inputs' array and 'targets' array, casting them to float and int data types, respectively.\n",
    "test_inputs, test_targets = npz['inputs'].astype(float), npz['targets'].astype(int)"
   ]
  },
  {
   "cell_type": "markdown",
   "metadata": {
    "id": "IE8Ig1oW9_EX"
   },
   "source": [
    "# <span style=\"color:#4040a1; font-family: Trebuchet MS; font-size: 40px; font-weight: bold;\">Train & Validation</span>"
   ]
  },
  {
   "cell_type": "code",
   "execution_count": null,
   "metadata": {
    "colab": {
     "base_uri": "https://localhost:8080/"
    },
    "id": "cn4VLz_u4Pom",
    "outputId": "b954e852-8b67-4a08-e60b-222cdfc631d6",
    "scrolled": false
   },
   "outputs": [
    {
     "name": "stdout",
     "output_type": "stream",
     "text": [
      "Epoch 1/100\n",
      "36/36 - 1s - loss: 0.6047 - accuracy: 0.6725 - val_loss: 0.5287 - val_accuracy: 0.7159 - 599ms/epoch - 17ms/step\n",
      "Epoch 2/100\n",
      "36/36 - 0s - loss: 0.4782 - accuracy: 0.7645 - val_loss: 0.4514 - val_accuracy: 0.7494 - 60ms/epoch - 2ms/step\n",
      "Epoch 3/100\n",
      "36/36 - 0s - loss: 0.4167 - accuracy: 0.7896 - val_loss: 0.4136 - val_accuracy: 0.7830 - 59ms/epoch - 2ms/step\n",
      "Epoch 4/100\n",
      "36/36 - 0s - loss: 0.3892 - accuracy: 0.7924 - val_loss: 0.3984 - val_accuracy: 0.7785 - 77ms/epoch - 2ms/step\n",
      "Epoch 5/100\n",
      "36/36 - 0s - loss: 0.3735 - accuracy: 0.8030 - val_loss: 0.3871 - val_accuracy: 0.7763 - 61ms/epoch - 2ms/step\n",
      "Epoch 6/100\n",
      "36/36 - 0s - loss: 0.3629 - accuracy: 0.8047 - val_loss: 0.3815 - val_accuracy: 0.7875 - 60ms/epoch - 2ms/step\n",
      "Epoch 7/100\n",
      "36/36 - 0s - loss: 0.3579 - accuracy: 0.8041 - val_loss: 0.3867 - val_accuracy: 0.7808 - 74ms/epoch - 2ms/step\n",
      "Epoch 8/100\n",
      "36/36 - 0s - loss: 0.3550 - accuracy: 0.8092 - val_loss: 0.3705 - val_accuracy: 0.7897 - 56ms/epoch - 2ms/step\n",
      "Epoch 9/100\n",
      "36/36 - 0s - loss: 0.3471 - accuracy: 0.8120 - val_loss: 0.3848 - val_accuracy: 0.7942 - 72ms/epoch - 2ms/step\n",
      "Epoch 10/100\n",
      "36/36 - 0s - loss: 0.3456 - accuracy: 0.8100 - val_loss: 0.3723 - val_accuracy: 0.7808 - 70ms/epoch - 2ms/step\n",
      "Epoch 11/100\n",
      "36/36 - 0s - loss: 0.3419 - accuracy: 0.8198 - val_loss: 0.3771 - val_accuracy: 0.7875 - 68ms/epoch - 2ms/step\n",
      "Epoch 12/100\n",
      "36/36 - 0s - loss: 0.3417 - accuracy: 0.8170 - val_loss: 0.3799 - val_accuracy: 0.7919 - 77ms/epoch - 2ms/step\n",
      "Epoch 13/100\n",
      "36/36 - 0s - loss: 0.3379 - accuracy: 0.8203 - val_loss: 0.3749 - val_accuracy: 0.7942 - 77ms/epoch - 2ms/step\n",
      "Epoch 14/100\n",
      "36/36 - 0s - loss: 0.3375 - accuracy: 0.8145 - val_loss: 0.3612 - val_accuracy: 0.8031 - 68ms/epoch - 2ms/step\n",
      "Epoch 15/100\n",
      "36/36 - 0s - loss: 0.3331 - accuracy: 0.8231 - val_loss: 0.3590 - val_accuracy: 0.8031 - 76ms/epoch - 2ms/step\n",
      "Epoch 16/100\n",
      "36/36 - 0s - loss: 0.3327 - accuracy: 0.8167 - val_loss: 0.3584 - val_accuracy: 0.7964 - 56ms/epoch - 2ms/step\n",
      "Epoch 17/100\n",
      "36/36 - 0s - loss: 0.3294 - accuracy: 0.8215 - val_loss: 0.3538 - val_accuracy: 0.8076 - 72ms/epoch - 2ms/step\n",
      "Epoch 18/100\n",
      "36/36 - 0s - loss: 0.3291 - accuracy: 0.8234 - val_loss: 0.3564 - val_accuracy: 0.7964 - 81ms/epoch - 2ms/step\n",
      "Epoch 19/100\n",
      "36/36 - 0s - loss: 0.3273 - accuracy: 0.8243 - val_loss: 0.3568 - val_accuracy: 0.8054 - 56ms/epoch - 2ms/step\n",
      "Epoch 20/100\n",
      "36/36 - 0s - loss: 0.3275 - accuracy: 0.8223 - val_loss: 0.3584 - val_accuracy: 0.8054 - 58ms/epoch - 2ms/step\n",
      "Epoch 21/100\n",
      "36/36 - 0s - loss: 0.3247 - accuracy: 0.8251 - val_loss: 0.3536 - val_accuracy: 0.8054 - 75ms/epoch - 2ms/step\n",
      "Epoch 22/100\n",
      "36/36 - 0s - loss: 0.3242 - accuracy: 0.8254 - val_loss: 0.3504 - val_accuracy: 0.8166 - 61ms/epoch - 2ms/step\n",
      "Epoch 23/100\n",
      "36/36 - 0s - loss: 0.3240 - accuracy: 0.8220 - val_loss: 0.3570 - val_accuracy: 0.8009 - 59ms/epoch - 2ms/step\n",
      "Epoch 24/100\n",
      "36/36 - 0s - loss: 0.3248 - accuracy: 0.8231 - val_loss: 0.3543 - val_accuracy: 0.8076 - 80ms/epoch - 2ms/step\n",
      "Epoch 25/100\n",
      "36/36 - 0s - loss: 0.3200 - accuracy: 0.8254 - val_loss: 0.3535 - val_accuracy: 0.7987 - 62ms/epoch - 2ms/step\n",
      "Epoch 26/100\n",
      "36/36 - 0s - loss: 0.3208 - accuracy: 0.8215 - val_loss: 0.3500 - val_accuracy: 0.8188 - 62ms/epoch - 2ms/step\n",
      "Epoch 27/100\n",
      "36/36 - 0s - loss: 0.3201 - accuracy: 0.8254 - val_loss: 0.3505 - val_accuracy: 0.7942 - 60ms/epoch - 2ms/step\n",
      "Epoch 28/100\n",
      "36/36 - 0s - loss: 0.3209 - accuracy: 0.8251 - val_loss: 0.3524 - val_accuracy: 0.8121 - 72ms/epoch - 2ms/step\n",
      "Epoch 29/100\n",
      "36/36 - 0s - loss: 0.3212 - accuracy: 0.8206 - val_loss: 0.3498 - val_accuracy: 0.8054 - 65ms/epoch - 2ms/step\n",
      "Epoch 30/100\n",
      "36/36 - 0s - loss: 0.3193 - accuracy: 0.8248 - val_loss: 0.3463 - val_accuracy: 0.8098 - 57ms/epoch - 2ms/step\n",
      "Epoch 31/100\n",
      "36/36 - 0s - loss: 0.3156 - accuracy: 0.8268 - val_loss: 0.3486 - val_accuracy: 0.8054 - 56ms/epoch - 2ms/step\n",
      "Epoch 32/100\n",
      "36/36 - 0s - loss: 0.3180 - accuracy: 0.8256 - val_loss: 0.3557 - val_accuracy: 0.7987 - 73ms/epoch - 2ms/step\n",
      "Epoch 33/100\n",
      "36/36 - 0s - loss: 0.3271 - accuracy: 0.8192 - val_loss: 0.3477 - val_accuracy: 0.8098 - 61ms/epoch - 2ms/step\n",
      "Epoch 34/100\n",
      "36/36 - 0s - loss: 0.3156 - accuracy: 0.8279 - val_loss: 0.3558 - val_accuracy: 0.8054 - 70ms/epoch - 2ms/step\n",
      "Epoch 35/100\n",
      "36/36 - 0s - loss: 0.3233 - accuracy: 0.8240 - val_loss: 0.3571 - val_accuracy: 0.8009 - 75ms/epoch - 2ms/step\n",
      "Epoch 36/100\n",
      "36/36 - 0s - loss: 0.3151 - accuracy: 0.8310 - val_loss: 0.3498 - val_accuracy: 0.8009 - 75ms/epoch - 2ms/step\n",
      "Epoch 37/100\n",
      "36/36 - 0s - loss: 0.3147 - accuracy: 0.8209 - val_loss: 0.3630 - val_accuracy: 0.8054 - 60ms/epoch - 2ms/step\n",
      "Epoch 38/100\n",
      "36/36 - 0s - loss: 0.3186 - accuracy: 0.8234 - val_loss: 0.3504 - val_accuracy: 0.8188 - 76ms/epoch - 2ms/step\n",
      "Epoch 39/100\n",
      "36/36 - 0s - loss: 0.3175 - accuracy: 0.8237 - val_loss: 0.3538 - val_accuracy: 0.8031 - 59ms/epoch - 2ms/step\n",
      "Epoch 40/100\n",
      "36/36 - 0s - loss: 0.3167 - accuracy: 0.8215 - val_loss: 0.3653 - val_accuracy: 0.8054 - 73ms/epoch - 2ms/step\n",
      "Epoch 41/100\n",
      "36/36 - 0s - loss: 0.3147 - accuracy: 0.8296 - val_loss: 0.3560 - val_accuracy: 0.8121 - 73ms/epoch - 2ms/step\n",
      "Epoch 42/100\n",
      "36/36 - 0s - loss: 0.3123 - accuracy: 0.8293 - val_loss: 0.3527 - val_accuracy: 0.8076 - 66ms/epoch - 2ms/step\n",
      "Epoch 43/100\n",
      "36/36 - 0s - loss: 0.3171 - accuracy: 0.8301 - val_loss: 0.3474 - val_accuracy: 0.8098 - 65ms/epoch - 2ms/step\n",
      "Epoch 44/100\n",
      "36/36 - 0s - loss: 0.3124 - accuracy: 0.8273 - val_loss: 0.3562 - val_accuracy: 0.8031 - 60ms/epoch - 2ms/step\n",
      "Epoch 45/100\n",
      "36/36 - 0s - loss: 0.3111 - accuracy: 0.8293 - val_loss: 0.3650 - val_accuracy: 0.7919 - 58ms/epoch - 2ms/step\n",
      "Epoch 46/100\n",
      "36/36 - 0s - loss: 0.3133 - accuracy: 0.8273 - val_loss: 0.3518 - val_accuracy: 0.8009 - 59ms/epoch - 2ms/step\n",
      "Epoch 47/100\n",
      "36/36 - 0s - loss: 0.3169 - accuracy: 0.8187 - val_loss: 0.3473 - val_accuracy: 0.8098 - 78ms/epoch - 2ms/step\n",
      "Epoch 48/100\n",
      "36/36 - 0s - loss: 0.3131 - accuracy: 0.8307 - val_loss: 0.3586 - val_accuracy: 0.7897 - 77ms/epoch - 2ms/step\n",
      "Epoch 49/100\n",
      "36/36 - 0s - loss: 0.3147 - accuracy: 0.8276 - val_loss: 0.3435 - val_accuracy: 0.8166 - 76ms/epoch - 2ms/step\n",
      "Epoch 50/100\n",
      "36/36 - 0s - loss: 0.3138 - accuracy: 0.8273 - val_loss: 0.3556 - val_accuracy: 0.8210 - 77ms/epoch - 2ms/step\n",
      "Epoch 51/100\n",
      "36/36 - 0s - loss: 0.3109 - accuracy: 0.8312 - val_loss: 0.3465 - val_accuracy: 0.8166 - 58ms/epoch - 2ms/step\n",
      "Epoch 52/100\n",
      "36/36 - 0s - loss: 0.3123 - accuracy: 0.8298 - val_loss: 0.3482 - val_accuracy: 0.8031 - 63ms/epoch - 2ms/step\n",
      "Epoch 53/100\n",
      "36/36 - 0s - loss: 0.3116 - accuracy: 0.8231 - val_loss: 0.3534 - val_accuracy: 0.8031 - 62ms/epoch - 2ms/step\n",
      "Epoch 54/100\n",
      "36/36 - 0s - loss: 0.3104 - accuracy: 0.8312 - val_loss: 0.3443 - val_accuracy: 0.8054 - 62ms/epoch - 2ms/step\n",
      "Epoch 55/100\n",
      "36/36 - 0s - loss: 0.3091 - accuracy: 0.8259 - val_loss: 0.3544 - val_accuracy: 0.8031 - 75ms/epoch - 2ms/step\n",
      "Epoch 56/100\n",
      "36/36 - 0s - loss: 0.3096 - accuracy: 0.8290 - val_loss: 0.3482 - val_accuracy: 0.8166 - 65ms/epoch - 2ms/step\n",
      "Epoch 57/100\n",
      "36/36 - 0s - loss: 0.3095 - accuracy: 0.8296 - val_loss: 0.3592 - val_accuracy: 0.8054 - 63ms/epoch - 2ms/step\n",
      "Epoch 58/100\n",
      "36/36 - 0s - loss: 0.3124 - accuracy: 0.8287 - val_loss: 0.3430 - val_accuracy: 0.8188 - 57ms/epoch - 2ms/step\n",
      "Epoch 59/100\n",
      "36/36 - 0s - loss: 0.3132 - accuracy: 0.8279 - val_loss: 0.3542 - val_accuracy: 0.8098 - 61ms/epoch - 2ms/step\n",
      "Epoch 60/100\n",
      "36/36 - 0s - loss: 0.3080 - accuracy: 0.8307 - val_loss: 0.3499 - val_accuracy: 0.8121 - 56ms/epoch - 2ms/step\n",
      "Epoch 61/100\n",
      "36/36 - 0s - loss: 0.3103 - accuracy: 0.8262 - val_loss: 0.3546 - val_accuracy: 0.8121 - 69ms/epoch - 2ms/step\n",
      "Epoch 62/100\n",
      "36/36 - 0s - loss: 0.3090 - accuracy: 0.8279 - val_loss: 0.3491 - val_accuracy: 0.8098 - 75ms/epoch - 2ms/step\n",
      "Epoch 63/100\n",
      "36/36 - 0s - loss: 0.3101 - accuracy: 0.8304 - val_loss: 0.3507 - val_accuracy: 0.8143 - 75ms/epoch - 2ms/step\n",
      "Epoch 64/100\n",
      "36/36 - 0s - loss: 0.3104 - accuracy: 0.8229 - val_loss: 0.3452 - val_accuracy: 0.8188 - 72ms/epoch - 2ms/step\n",
      "Epoch 65/100\n",
      "36/36 - 0s - loss: 0.3082 - accuracy: 0.8231 - val_loss: 0.3509 - val_accuracy: 0.8188 - 71ms/epoch - 2ms/step\n",
      "Epoch 66/100\n",
      "36/36 - 0s - loss: 0.3098 - accuracy: 0.8279 - val_loss: 0.3556 - val_accuracy: 0.7919 - 80ms/epoch - 2ms/step\n",
      "Epoch 67/100\n",
      "36/36 - 0s - loss: 0.3100 - accuracy: 0.8245 - val_loss: 0.3423 - val_accuracy: 0.8210 - 78ms/epoch - 2ms/step\n",
      "Epoch 68/100\n",
      "36/36 - 0s - loss: 0.3064 - accuracy: 0.8321 - val_loss: 0.3432 - val_accuracy: 0.8098 - 66ms/epoch - 2ms/step\n",
      "Epoch 69/100\n",
      "36/36 - 0s - loss: 0.3109 - accuracy: 0.8287 - val_loss: 0.3502 - val_accuracy: 0.8076 - 76ms/epoch - 2ms/step\n",
      "Epoch 70/100\n",
      "36/36 - 0s - loss: 0.3096 - accuracy: 0.8315 - val_loss: 0.3556 - val_accuracy: 0.8076 - 77ms/epoch - 2ms/step\n",
      "Epoch 71/100\n",
      "36/36 - 0s - loss: 0.3085 - accuracy: 0.8318 - val_loss: 0.3439 - val_accuracy: 0.8255 - 68ms/epoch - 2ms/step\n",
      "Epoch 72/100\n",
      "36/36 - 0s - loss: 0.3080 - accuracy: 0.8256 - val_loss: 0.3528 - val_accuracy: 0.8031 - 74ms/epoch - 2ms/step\n",
      "Epoch 73/100\n",
      "36/36 - 0s - loss: 0.3084 - accuracy: 0.8259 - val_loss: 0.3504 - val_accuracy: 0.8098 - 75ms/epoch - 2ms/step\n",
      "Epoch 74/100\n",
      "36/36 - 0s - loss: 0.3085 - accuracy: 0.8276 - val_loss: 0.3500 - val_accuracy: 0.8076 - 78ms/epoch - 2ms/step\n",
      "Epoch 75/100\n",
      "36/36 - 0s - loss: 0.3131 - accuracy: 0.8265 - val_loss: 0.3623 - val_accuracy: 0.8054 - 71ms/epoch - 2ms/step\n",
      "Epoch 76/100\n",
      "36/36 - 0s - loss: 0.3073 - accuracy: 0.8307 - val_loss: 0.3606 - val_accuracy: 0.8143 - 73ms/epoch - 2ms/step\n",
      "Epoch 77/100\n",
      "36/36 - 0s - loss: 0.3079 - accuracy: 0.8296 - val_loss: 0.3580 - val_accuracy: 0.8031 - 58ms/epoch - 2ms/step\n",
      "Epoch 78/100\n",
      "36/36 - 0s - loss: 0.3102 - accuracy: 0.8298 - val_loss: 0.3480 - val_accuracy: 0.8121 - 74ms/epoch - 2ms/step\n",
      "Epoch 79/100\n",
      "36/36 - 0s - loss: 0.3109 - accuracy: 0.8284 - val_loss: 0.3688 - val_accuracy: 0.8188 - 56ms/epoch - 2ms/step\n",
      "Epoch 80/100\n",
      "36/36 - 0s - loss: 0.3084 - accuracy: 0.8329 - val_loss: 0.3562 - val_accuracy: 0.7964 - 72ms/epoch - 2ms/step\n",
      "Epoch 81/100\n",
      "36/36 - 0s - loss: 0.3082 - accuracy: 0.8245 - val_loss: 0.3476 - val_accuracy: 0.8098 - 55ms/epoch - 2ms/step\n",
      "Epoch 82/100\n",
      "36/36 - 0s - loss: 0.3061 - accuracy: 0.8298 - val_loss: 0.3521 - val_accuracy: 0.8166 - 55ms/epoch - 2ms/step\n",
      "Epoch 83/100\n",
      "36/36 - 0s - loss: 0.3119 - accuracy: 0.8254 - val_loss: 0.3469 - val_accuracy: 0.8098 - 64ms/epoch - 2ms/step\n",
      "Epoch 84/100\n",
      "36/36 - 0s - loss: 0.3032 - accuracy: 0.8304 - val_loss: 0.3411 - val_accuracy: 0.8255 - 73ms/epoch - 2ms/step\n",
      "Epoch 85/100\n",
      "36/36 - 0s - loss: 0.3063 - accuracy: 0.8256 - val_loss: 0.3470 - val_accuracy: 0.8166 - 63ms/epoch - 2ms/step\n",
      "Epoch 86/100\n",
      "36/36 - 0s - loss: 0.3065 - accuracy: 0.8301 - val_loss: 0.3580 - val_accuracy: 0.8031 - 76ms/epoch - 2ms/step\n",
      "Epoch 87/100\n",
      "36/36 - 0s - loss: 0.3110 - accuracy: 0.8212 - val_loss: 0.3419 - val_accuracy: 0.8255 - 76ms/epoch - 2ms/step\n",
      "Epoch 88/100\n",
      "36/36 - 0s - loss: 0.3051 - accuracy: 0.8276 - val_loss: 0.3462 - val_accuracy: 0.8121 - 55ms/epoch - 2ms/step\n",
      "Epoch 89/100\n",
      "36/36 - 0s - loss: 0.3059 - accuracy: 0.8312 - val_loss: 0.3481 - val_accuracy: 0.8031 - 61ms/epoch - 2ms/step\n",
      "Epoch 90/100\n",
      "36/36 - 0s - loss: 0.3051 - accuracy: 0.8312 - val_loss: 0.3418 - val_accuracy: 0.8054 - 74ms/epoch - 2ms/step\n",
      "Epoch 91/100\n",
      "36/36 - 0s - loss: 0.3064 - accuracy: 0.8360 - val_loss: 0.3477 - val_accuracy: 0.8076 - 72ms/epoch - 2ms/step\n",
      "Epoch 92/100\n",
      "36/36 - 0s - loss: 0.3122 - accuracy: 0.8293 - val_loss: 0.3459 - val_accuracy: 0.8188 - 58ms/epoch - 2ms/step\n",
      "Epoch 93/100\n",
      "36/36 - 0s - loss: 0.3092 - accuracy: 0.8270 - val_loss: 0.3710 - val_accuracy: 0.8054 - 56ms/epoch - 2ms/step\n",
      "Epoch 94/100\n",
      "36/36 - 0s - loss: 0.3066 - accuracy: 0.8318 - val_loss: 0.3464 - val_accuracy: 0.8143 - 77ms/epoch - 2ms/step\n",
      "Epoch 95/100\n",
      "36/36 - 0s - loss: 0.3069 - accuracy: 0.8298 - val_loss: 0.3407 - val_accuracy: 0.8210 - 62ms/epoch - 2ms/step\n",
      "Epoch 96/100\n",
      "36/36 - 0s - loss: 0.3055 - accuracy: 0.8343 - val_loss: 0.3419 - val_accuracy: 0.8166 - 63ms/epoch - 2ms/step\n",
      "Epoch 97/100\n",
      "36/36 - 0s - loss: 0.3070 - accuracy: 0.8321 - val_loss: 0.3472 - val_accuracy: 0.8121 - 57ms/epoch - 2ms/step\n",
      "Epoch 98/100\n",
      "36/36 - 0s - loss: 0.3058 - accuracy: 0.8298 - val_loss: 0.3454 - val_accuracy: 0.8076 - 61ms/epoch - 2ms/step\n",
      "Epoch 99/100\n",
      "36/36 - 0s - loss: 0.3032 - accuracy: 0.8290 - val_loss: 0.3756 - val_accuracy: 0.8076 - 75ms/epoch - 2ms/step\n",
      "Epoch 100/100\n",
      "36/36 - 0s - loss: 0.3105 - accuracy: 0.8226 - val_loss: 0.3439 - val_accuracy: 0.8143 - 63ms/epoch - 2ms/step\n"
     ]
    },
    {
     "data": {
      "text/plain": [
       "<keras.src.callbacks.History at 0x7ad9424e5360>"
      ]
     },
     "execution_count": 33,
     "metadata": {},
     "output_type": "execute_result"
    }
   ],
   "source": [
    "# Define the size of the input, output, and hidden layers.\n",
    "input_size = 10\n",
    "output_size = 2\n",
    "hidden_layer_size = 50\n",
    "\n",
    "# Create a sequential model.\n",
    "model = tf.keras.Sequential([\n",
    "    tf.keras.layers.Dense(hidden_layer_size, activation='relu'),  # 1st hidden layer with ReLU activation\n",
    "    tf.keras.layers.Dense(hidden_layer_size, activation='relu'),  # 2nd hidden layer with ReLU activation\n",
    "    tf.keras.layers.Dense(output_size, activation='softmax')  # Output layer with softmax activation\n",
    "])\n",
    "\n",
    "# Compile the model, specifying the optimizer, loss function, and evaluation metric.\n",
    "model.compile(optimizer='adam', loss='sparse_categorical_crossentropy', metrics=['accuracy'])\n",
    "\n",
    "# Set the batch size for training.\n",
    "batch_size = 100\n",
    "\n",
    "# Set the maximum number of epochs (training iterations).\n",
    "max_epochs = 100\n",
    "\n",
    "# Train the model using the training data and validate it using the validation data.\n",
    "model.fit(\n",
    "    train_inputs,  # Training inputs\n",
    "    train_targets,  # Training targets\n",
    "    batch_size=batch_size,  # Batch size\n",
    "    epochs=max_epochs,  # Number of training epochs\n",
    "    validation_data=(validation_inputs, validation_targets),  # Validation data\n",
    "    verbose=2  # Verbosity level for training progress\n",
    ")"
   ]
  },
  {
   "cell_type": "markdown",
   "metadata": {
    "id": "QIxsv3cJ-CUc"
   },
   "source": [
    "# <span style=\"color:#4040a1; font-family: Trebuchet MS; font-size: 40px; font-weight: bold;\">Test</span>"
   ]
  },
  {
   "cell_type": "code",
   "execution_count": null,
   "metadata": {
    "colab": {
     "base_uri": "https://localhost:8080/"
    },
    "id": "D3er4SRV7elM",
    "outputId": "50597f01-88c9-4540-a913-4ac8a732afa9"
   },
   "outputs": [
    {
     "name": "stdout",
     "output_type": "stream",
     "text": [
      "14/14 [==============================] - 0s 1ms/step - loss: 0.3087 - accuracy: 0.8438\n"
     ]
    }
   ],
   "source": [
    "# Evaluate the trained model on the test dataset and store the test loss and accuracy.\n",
    "test_loss, test_accuracy = model.evaluate(test_inputs, test_targets)"
   ]
  },
  {
   "cell_type": "code",
   "execution_count": null,
   "metadata": {
    "colab": {
     "base_uri": "https://localhost:8080/"
    },
    "id": "A2YK4M0R-DuR",
    "outputId": "d1000b19-2371-48a0-e786-47dc482e58db"
   },
   "outputs": [
    {
     "name": "stdout",
     "output_type": "stream",
     "text": [
      "\n",
      "Test loss: 0.31. Test accuracy: 84.38%\n"
     ]
    }
   ],
   "source": [
    "print('\\nTest loss: {0:.2f}. Test accuracy: {1:.2f}%'.format(test_loss, test_accuracy*100.))"
   ]
  }
 ],
 "metadata": {
  "colab": {
   "provenance": []
  },
  "kernelspec": {
   "display_name": "Python 3 (ipykernel)",
   "language": "python",
   "name": "python3"
  },
  "language_info": {
   "codemirror_mode": {
    "name": "ipython",
    "version": 3
   },
   "file_extension": ".py",
   "mimetype": "text/x-python",
   "name": "python",
   "nbconvert_exporter": "python",
   "pygments_lexer": "ipython3",
   "version": "3.10.9"
  }
 },
 "nbformat": 4,
 "nbformat_minor": 1
}
